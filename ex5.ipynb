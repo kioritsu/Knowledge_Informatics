{
 "cells": [
  {
   "cell_type": "markdown",
   "metadata": {},
   "source": [
    "## 知識情報学第5回演習サンプルプログラム ex5.ipynb\n",
    "- Programmed by Nattapong Thammasan, 監修　福井健一\n",
    "- Last updated: 2017/11/02\n",
    "- Checked with Python 3.8.8, scikit-learn 1.0\n",
    "- MIT Lisence\n",
    "\n",
    "## ロジスティック回帰による手書き文字認識\n",
    "- MNISTデータセットについては，詳しくは下記を参照\n",
    "  - http://yann.lecun.com/exdb/mnist/\n",
    "  - (注) httpsはアクセス不可．Chrome以外のブラウザを使用すること"
   ]
  },
  {
   "cell_type": "code",
   "execution_count": 1,
   "metadata": {},
   "outputs": [],
   "source": [
    "%matplotlib inline\n",
    "import os\n",
    "import struct\n",
    "import matplotlib.pyplot as plt\n",
    "import numpy as np\n",
    "from sklearn.linear_model import LogisticRegression"
   ]
  },
  {
   "cell_type": "markdown",
   "metadata": {},
   "source": [
    "### MNISTデータの読み込み関数"
   ]
  },
  {
   "cell_type": "code",
   "execution_count": 2,
   "metadata": {},
   "outputs": [],
   "source": [
    "def load_mnist(path, kind='train'):\n",
    "\n",
    "    labels_path = os.path.join(path,'%s-labels-idx1-ubyte'% kind)\n",
    "    images_path = os.path.join(path,'%s-images-idx3-ubyte'% kind)\n",
    "\n",
    "    with open(labels_path, 'rb') as lbpath:\n",
    "        magic, n = struct.unpack('>II',lbpath.read(8))\n",
    "        labels = np.fromfile(lbpath,dtype=np.uint8)\n",
    "\n",
    "    with open(images_path, 'rb') as imgpath:\n",
    "        magic, num, rows, cols = struct.unpack(\">IIII\",imgpath.read(16))\n",
    "        images = np.fromfile(imgpath,dtype=np.uint8).reshape(len(labels), 784)\n",
    "\n",
    "    return images, labels"
   ]
  },
  {
   "cell_type": "markdown",
   "metadata": {},
   "source": [
    "### MNISTデータの読み込み"
   ]
  },
  {
   "cell_type": "code",
   "execution_count": 3,
   "metadata": {},
   "outputs": [
    {
     "ename": "FileNotFoundError",
     "evalue": "[Errno 2] No such file or directory: 'C:\\\\Users\\\\kio\\\\OneDrive - OUMail (Osaka University)\\\\M1\\\\Knowledge_Informatics\\\\train-labels.idx1-ubyte'",
     "output_type": "error",
     "traceback": [
      "\u001b[1;31m---------------------------------------------------------------------------\u001b[0m",
      "\u001b[1;31mFileNotFoundError\u001b[0m                         Traceback (most recent call last)",
      "\u001b[1;32mc:\\Users\\kio\\OneDrive - OUMail (Osaka University)\\M1\\Knowledge_Informatics\\ex5.ipynb Cell 6\u001b[0m line \u001b[0;36m2\n\u001b[0;32m      <a href='vscode-notebook-cell:/c%3A/Users/kio/OneDrive%20-%20OUMail%20%28Osaka%20University%29/M1/Knowledge_Informatics/ex5.ipynb#W5sZmlsZQ%3D%3D?line=0'>1</a>\u001b[0m current_path \u001b[39m=\u001b[39m os\u001b[39m.\u001b[39mpath\u001b[39m.\u001b[39mdirname(os\u001b[39m.\u001b[39mpath\u001b[39m.\u001b[39mrealpath(\u001b[39m'\u001b[39m\u001b[39m__file__\u001b[39m\u001b[39m'\u001b[39m))\n\u001b[1;32m----> <a href='vscode-notebook-cell:/c%3A/Users/kio/OneDrive%20-%20OUMail%20%28Osaka%20University%29/M1/Knowledge_Informatics/ex5.ipynb#W5sZmlsZQ%3D%3D?line=1'>2</a>\u001b[0m X_train, y_train \u001b[39m=\u001b[39m load_mnist(current_path, kind\u001b[39m=\u001b[39;49m\u001b[39m'\u001b[39;49m\u001b[39mtrain\u001b[39;49m\u001b[39m'\u001b[39;49m)\n\u001b[0;32m      <a href='vscode-notebook-cell:/c%3A/Users/kio/OneDrive%20-%20OUMail%20%28Osaka%20University%29/M1/Knowledge_Informatics/ex5.ipynb#W5sZmlsZQ%3D%3D?line=2'>3</a>\u001b[0m X_test, y_test \u001b[39m=\u001b[39m load_mnist(current_path, kind\u001b[39m=\u001b[39m\u001b[39m'\u001b[39m\u001b[39mt10k\u001b[39m\u001b[39m'\u001b[39m)\n",
      "\u001b[1;32mc:\\Users\\kio\\OneDrive - OUMail (Osaka University)\\M1\\Knowledge_Informatics\\ex5.ipynb Cell 6\u001b[0m line \u001b[0;36m6\n\u001b[0;32m      <a href='vscode-notebook-cell:/c%3A/Users/kio/OneDrive%20-%20OUMail%20%28Osaka%20University%29/M1/Knowledge_Informatics/ex5.ipynb#W5sZmlsZQ%3D%3D?line=2'>3</a>\u001b[0m labels_path \u001b[39m=\u001b[39m os\u001b[39m.\u001b[39mpath\u001b[39m.\u001b[39mjoin(path,\u001b[39m'\u001b[39m\u001b[39m%s\u001b[39;00m\u001b[39m-labels.idx1-ubyte\u001b[39m\u001b[39m'\u001b[39m\u001b[39m%\u001b[39m kind)\n\u001b[0;32m      <a href='vscode-notebook-cell:/c%3A/Users/kio/OneDrive%20-%20OUMail%20%28Osaka%20University%29/M1/Knowledge_Informatics/ex5.ipynb#W5sZmlsZQ%3D%3D?line=3'>4</a>\u001b[0m images_path \u001b[39m=\u001b[39m os\u001b[39m.\u001b[39mpath\u001b[39m.\u001b[39mjoin(path,\u001b[39m'\u001b[39m\u001b[39m%s\u001b[39;00m\u001b[39m-images.idx3-ubyte\u001b[39m\u001b[39m'\u001b[39m\u001b[39m%\u001b[39m kind)\n\u001b[1;32m----> <a href='vscode-notebook-cell:/c%3A/Users/kio/OneDrive%20-%20OUMail%20%28Osaka%20University%29/M1/Knowledge_Informatics/ex5.ipynb#W5sZmlsZQ%3D%3D?line=5'>6</a>\u001b[0m \u001b[39mwith\u001b[39;00m \u001b[39mopen\u001b[39;49m(labels_path, \u001b[39m'\u001b[39;49m\u001b[39mrb\u001b[39;49m\u001b[39m'\u001b[39;49m) \u001b[39mas\u001b[39;00m lbpath:\n\u001b[0;32m      <a href='vscode-notebook-cell:/c%3A/Users/kio/OneDrive%20-%20OUMail%20%28Osaka%20University%29/M1/Knowledge_Informatics/ex5.ipynb#W5sZmlsZQ%3D%3D?line=6'>7</a>\u001b[0m     magic, n \u001b[39m=\u001b[39m struct\u001b[39m.\u001b[39munpack(\u001b[39m'\u001b[39m\u001b[39m>II\u001b[39m\u001b[39m'\u001b[39m,lbpath\u001b[39m.\u001b[39mread(\u001b[39m8\u001b[39m))\n\u001b[0;32m      <a href='vscode-notebook-cell:/c%3A/Users/kio/OneDrive%20-%20OUMail%20%28Osaka%20University%29/M1/Knowledge_Informatics/ex5.ipynb#W5sZmlsZQ%3D%3D?line=7'>8</a>\u001b[0m     labels \u001b[39m=\u001b[39m np\u001b[39m.\u001b[39mfromfile(lbpath,dtype\u001b[39m=\u001b[39mnp\u001b[39m.\u001b[39muint8)\n",
      "File \u001b[1;32mc:\\Users\\kio\\OneDrive - OUMail (Osaka University)\\M1\\Knowledge_Informatics\\.venv\\lib\\site-packages\\IPython\\core\\interactiveshell.py:286\u001b[0m, in \u001b[0;36m_modified_open\u001b[1;34m(file, *args, **kwargs)\u001b[0m\n\u001b[0;32m    279\u001b[0m \u001b[39mif\u001b[39;00m file \u001b[39min\u001b[39;00m {\u001b[39m0\u001b[39m, \u001b[39m1\u001b[39m, \u001b[39m2\u001b[39m}:\n\u001b[0;32m    280\u001b[0m     \u001b[39mraise\u001b[39;00m \u001b[39mValueError\u001b[39;00m(\n\u001b[0;32m    281\u001b[0m         \u001b[39mf\u001b[39m\u001b[39m\"\u001b[39m\u001b[39mIPython won\u001b[39m\u001b[39m'\u001b[39m\u001b[39mt let you open fd=\u001b[39m\u001b[39m{\u001b[39;00mfile\u001b[39m}\u001b[39;00m\u001b[39m by default \u001b[39m\u001b[39m\"\u001b[39m\n\u001b[0;32m    282\u001b[0m         \u001b[39m\"\u001b[39m\u001b[39mas it is likely to crash IPython. If you know what you are doing, \u001b[39m\u001b[39m\"\u001b[39m\n\u001b[0;32m    283\u001b[0m         \u001b[39m\"\u001b[39m\u001b[39myou can use builtins\u001b[39m\u001b[39m'\u001b[39m\u001b[39m open.\u001b[39m\u001b[39m\"\u001b[39m\n\u001b[0;32m    284\u001b[0m     )\n\u001b[1;32m--> 286\u001b[0m \u001b[39mreturn\u001b[39;00m io_open(file, \u001b[39m*\u001b[39margs, \u001b[39m*\u001b[39m\u001b[39m*\u001b[39mkwargs)\n",
      "\u001b[1;31mFileNotFoundError\u001b[0m: [Errno 2] No such file or directory: 'C:\\\\Users\\\\kio\\\\OneDrive - OUMail (Osaka University)\\\\M1\\\\Knowledge_Informatics\\\\train-labels.idx1-ubyte'"
     ]
    }
   ],
   "source": [
    "current_path = os.path.dirname(os.path.realpath('__file__'))\n",
    "X_train, y_train = load_mnist(current_path, kind='train')\n",
    "X_test, y_test = load_mnist(current_path, kind='t10k')"
   ]
  },
  {
   "cell_type": "code",
   "execution_count": 4,
   "metadata": {},
   "outputs": [
    {
     "name": "stdout",
     "output_type": "stream",
     "text": [
      "#data: 1000, #feature: 784 (training data)\n",
      "#data: 1000, #feature: 784 (test data)\n"
     ]
    }
   ],
   "source": [
    "# 学習用に最初の1000点，テスト用に最初の1000点のデータを使用\n",
    "# 動作が遅い場合は，学習データを小さくして下さい\n",
    "X_train = X_train[:1000][:]\n",
    "y_train = y_train[:1000][:]\n",
    "X_test = X_test[:1000][:]\n",
    "y_test = y_test[:1000][:]\n",
    "print('#data: %d, #feature: %d (training data)' % (X_train.shape[0], X_train.shape[1]))\n",
    "print('#data: %d, #feature: %d (test data)' % (X_test.shape[0], X_test.shape[1]))"
   ]
  },
  {
   "cell_type": "markdown",
   "metadata": {},
   "source": [
    "### ロジスティック回帰のインスタンスの生成と学習\n",
    "- 3クラス以上のマルチクラスへの対応は、multi_classで指定する。ovr(one-versus-rest)法は、1対多でクラス数分の識別器を構築し、テストデータのクラス分類は最も事後確率の高いクラスへ分類する方式。"
   ]
  },
  {
   "cell_type": "code",
   "execution_count": 5,
   "metadata": {},
   "outputs": [
    {
     "data": {
      "text/plain": [
       "LogisticRegression(C=1000.0, class_weight=None, dual=False,\n",
       "          fit_intercept=True, intercept_scaling=1, max_iter=100,\n",
       "          multi_class='ovr', n_jobs=None, penalty='l2', random_state=0,\n",
       "          solver='liblinear', tol=0.0001, verbose=0, warm_start=False)"
      ]
     },
     "execution_count": 5,
     "metadata": {},
     "output_type": "execute_result"
    }
   ],
   "source": [
    "lr = LogisticRegression(penalty='l2', C=1000.0, random_state=0, solver='liblinear', multi_class='ovr')\n",
    "lr.fit(X_train, y_train)"
   ]
  },
  {
   "cell_type": "markdown",
   "metadata": {},
   "source": [
    "### 学習データおよびテストデータに対するaccuracyの算出"
   ]
  },
  {
   "cell_type": "code",
   "execution_count": 6,
   "metadata": {},
   "outputs": [
    {
     "name": "stdout",
     "output_type": "stream",
     "text": [
      "accuracy for training data: 100.00%\n",
      "accuracy for test data: 81.70%\n"
     ]
    }
   ],
   "source": [
    "y_train_pred = lr.predict(X_train)\n",
    "acc = np.sum(y_train == y_train_pred, axis=0)*100 / X_train.shape[0]\n",
    "print('accuracy for training data: %.2f%%' % acc)\n",
    "\n",
    "y_test_pred = lr.predict(X_test)\n",
    "acc = np.sum(y_test == y_test_pred, axis=0)*100 / X_test.shape[0]\n",
    "print('accuracy for test data: %.2f%%' % acc)"
   ]
  },
  {
   "cell_type": "markdown",
   "metadata": {},
   "source": [
    "### 最初の25サンプルの識別結果をプロット\n",
    "t: 正解クラス，p: 識別器による推測クラス"
   ]
  },
  {
   "cell_type": "code",
   "execution_count": 7,
   "metadata": {},
   "outputs": [
    {
     "data": {
      "image/png": "[encoded data removed]",
      "text/plain": [
       "<Figure size 432x288 with 25 Axes>"
      ]
     },
     "metadata": {},
     "output_type": "display_data"
    }
   ],
   "source": [
    "orign_img = X_test[:25]\n",
    "true_lab = y_test[:25]\n",
    "predicted_lab = y_test_pred[:25]\n",
    "\n",
    "fig, ax = plt.subplots(nrows=5, ncols=5, sharex=True, sharey=True,)\n",
    "ax = ax.flatten()\n",
    "for i in range(25):\n",
    "    img = orign_img[i].reshape(28, 28)\n",
    "    ax[i].imshow(img, cmap='Greys', interpolation='nearest')\n",
    "    ax[i].set_title('%d) t: %d p: %d' % (i+1, true_lab[i], predicted_lab[i]))\n",
    "\n",
    "ax[0].set_xticks([])\n",
    "ax[0].set_yticks([])\n",
    "plt.subplots_adjust(hspace=1.0, wspace=2.0)\n",
    "plt.show()"
   ]
  },
  {
   "cell_type": "markdown",
   "metadata": {},
   "source": [
    "### パラメータを変化させてロジスティック回帰の挙動を観察する\n",
    "- 【課題1a】逆正則化パラメータ（スライドのλの逆数）を10^-10から10^10まで10倍ずつ変化させたときの、非ゼロの重みの数とAccuracyをグラフにプロット\n",
    "- 【課題2】引数penaltyを変更して，L1,L2正則化の効果を考察する．"
   ]
  },
  {
   "cell_type": "code",
   "execution_count": 8,
   "metadata": {},
   "outputs": [],
   "source": [
    "n_nonzero_weights, params, accuracy_train, accuracy_test = [], [], [], []\n",
    "for c in np.arange(-10, 11, dtype=float):\n",
    "    # 逆正則化パラメータ\n",
    "    param = 10**c\n",
    "    \n",
    "    # ロジスティック回帰のインスタンスを生成し，学習データに対して適合させる．\n",
    "    [YOUR CODE HERE]\n",
    "    \n",
    "    # 非ゼロの重みの数をn_nonzero_weightsに追加．one-vs-restのいずれかの一つのクラスに対応する重みのみで良い．\n",
    "    # ヒント：学習済みの重みはcoef_[]に格納されている．また，非ゼロの要素数はnumpyのcount_nonzero()を使うと良い\n",
    "    [YOUR CODE HERE]\n",
    "    \n",
    "    # 学習データおよびテストデータに対するAccuracyをaccuracy_train，accuracy_testに追加\n",
    "    [YOUR CODE HERE]\n",
    "    \n",
    "    params.append(param)"
   ]
  },
  {
   "cell_type": "markdown",
   "metadata": {},
   "source": [
    "### 分類精度のグラフ出力"
   ]
  },
  {
   "cell_type": "code",
   "execution_count": 9,
   "metadata": {},
   "outputs": [
    {
     "data": {
      "image/png": "[encoded data removed]",
      "text/plain": [
       "<Figure size 432x288 with 1 Axes>"
      ]
     },
     "metadata": {
      "needs_background": "light"
     },
     "output_type": "display_data"
    }
   ],
   "source": [
    "plt.plot(params, accuracy_train,label='Training')\n",
    "plt.plot(params, accuracy_test, label='Test')\n",
    "plt.ylabel('Accuracy')\n",
    "plt.xlabel('C')\n",
    "plt.legend(loc='upper left')\n",
    "plt.xscale('log')\n",
    "plt.show()\n",
    "#下記は実行例"
   ]
  },
  {
   "cell_type": "markdown",
   "metadata": {},
   "source": [
    "### 非ゼロ重みの数のグラフ出力"
   ]
  },
  {
   "cell_type": "code",
   "execution_count": 10,
   "metadata": {},
   "outputs": [
    {
     "data": {
      "image/png": "[encoded data removed]",
      "text/plain": [
       "<Figure size 432x288 with 1 Axes>"
      ]
     },
     "metadata": {
      "needs_background": "light"
     },
     "output_type": "display_data"
    }
   ],
   "source": [
    "plt.plot(params, n_nonzero_weights)\n",
    "plt.ylabel('# non-zero weights')\n",
    "plt.xlabel('C')\n",
    "plt.xscale('log')\n",
    "plt.show()\n",
    "#下記は実行例"
   ]
  },
  {
   "cell_type": "markdown",
   "metadata": {},
   "source": [
    "### 【課題1b】学習済み重みの2次元プロット\n",
    "- いずれかひとつのクラスのみで良い"
   ]
  },
  {
   "cell_type": "code",
   "execution_count": null,
   "metadata": {},
   "outputs": [],
   "source": [
    "[YOUR CODE HERE]"
   ]
  }
 ],
 "metadata": {
  "kernelspec": {
   "display_name": "Python 3 (ipykernel)",
   "language": "python",
   "name": "python3"
  },
  "language_info": {
   "codemirror_mode": {
    "name": "ipython",
    "version": 3
   },
   "file_extension": ".py",
   "mimetype": "text/x-python",
   "name": "python",
   "nbconvert_exporter": "python",
   "pygments_lexer": "ipython3",
   "version": "3.10.4"
  }
 },
 "nbformat": 4,
 "nbformat_minor": 2
}
