{
 "cells": [
  {
   "cell_type": "markdown",
   "metadata": {},
   "source": [
    "## 知識情報学第6回演習サンプルプログラム ex6.ipynb\n",
    "- Programmed by Wu Hongle, 監修　福井健一\n",
    "- Last updated: 2019/09/02\n",
    "- Checked with Python 3.8.8, scikit-learn 1.0\n",
    "- MIT Lisence\n",
    "\n",
    "## SVMによるBreast Cancerデータの識別\n",
    "- 入れ子交差検証で最適パラメータを探索"
   ]
  },
  {
   "cell_type": "code",
   "execution_count": 46,
   "metadata": {},
   "outputs": [],
   "source": [
    "import numpy as np\n",
    "from sklearn.svm import SVC\n",
    "from sklearn.datasets import load_breast_cancer\n",
    "from sklearn.model_selection import StratifiedKFold, GridSearchCV\n",
    "from sklearn.preprocessing import scale"
   ]
  },
  {
   "cell_type": "markdown",
   "metadata": {},
   "source": [
    "### Breast Cancerデータのロード"
   ]
  },
  {
   "cell_type": "code",
   "execution_count": 47,
   "metadata": {},
   "outputs": [],
   "source": [
    "df = load_breast_cancer()\n",
    "X = df.data\n",
    "y = df.target\n",
    "\n",
    "# z標準化\n",
    "X = scale(X)"
   ]
  },
  {
   "cell_type": "code",
   "execution_count": 48,
   "metadata": {},
   "outputs": [
    {
     "name": "stdout",
     "output_type": "stream",
     "text": [
      ".. _breast_cancer_dataset:\n",
      "\n",
      "Breast cancer wisconsin (diagnostic) dataset\n",
      "--------------------------------------------\n",
      "\n",
      "**Data Set Characteristics:**\n",
      "\n",
      "    :Number of Instances: 569\n",
      "\n",
      "    :Number of Attributes: 30 numeric, predictive attributes and the class\n",
      "\n",
      "    :Attribute Information:\n",
      "        - radius (mean of distances from center to points on the perimeter)\n",
      "        - texture (standard deviation of gray-scale values)\n",
      "        - perimeter\n",
      "        - area\n",
      "        - smoothness (local variation in radius lengths)\n",
      "        - compactness (perimeter^2 / area - 1.0)\n",
      "        - concavity (severity of concave portions of the contour)\n",
      "        - concave points (number of concave portions of the contour)\n",
      "        - symmetry\n",
      "        - fractal dimension (\"coastline approximation\" - 1)\n",
      "\n",
      "        The mean, standard error, and \"worst\" or largest (mean of the three\n",
      "        worst/largest values) of these features were computed for each image,\n",
      "        resulting in 30 features.  For instance, field 0 is Mean Radius, field\n",
      "        10 is Radius SE, field 20 is Worst Radius.\n",
      "\n",
      "        - class:\n",
      "                - WDBC-Malignant\n",
      "                - WDBC-Benign\n",
      "\n",
      "    :Summary Statistics:\n",
      "\n",
      "    ===================================== ====== ======\n",
      "                                           Min    Max\n",
      "    ===================================== ====== ======\n",
      "    radius (mean):                        6.981  28.11\n",
      "    texture (mean):                       9.71   39.28\n",
      "    perimeter (mean):                     43.79  188.5\n",
      "    area (mean):                          143.5  2501.0\n",
      "    smoothness (mean):                    0.053  0.163\n",
      "    compactness (mean):                   0.019  0.345\n",
      "    concavity (mean):                     0.0    0.427\n",
      "    concave points (mean):                0.0    0.201\n",
      "    symmetry (mean):                      0.106  0.304\n",
      "    fractal dimension (mean):             0.05   0.097\n",
      "    radius (standard error):              0.112  2.873\n",
      "    texture (standard error):             0.36   4.885\n",
      "    perimeter (standard error):           0.757  21.98\n",
      "    area (standard error):                6.802  542.2\n",
      "    smoothness (standard error):          0.002  0.031\n",
      "    compactness (standard error):         0.002  0.135\n",
      "    concavity (standard error):           0.0    0.396\n",
      "    concave points (standard error):      0.0    0.053\n",
      "    symmetry (standard error):            0.008  0.079\n",
      "    fractal dimension (standard error):   0.001  0.03\n",
      "    radius (worst):                       7.93   36.04\n",
      "    texture (worst):                      12.02  49.54\n",
      "    perimeter (worst):                    50.41  251.2\n",
      "    area (worst):                         185.2  4254.0\n",
      "    smoothness (worst):                   0.071  0.223\n",
      "    compactness (worst):                  0.027  1.058\n",
      "    concavity (worst):                    0.0    1.252\n",
      "    concave points (worst):               0.0    0.291\n",
      "    symmetry (worst):                     0.156  0.664\n",
      "    fractal dimension (worst):            0.055  0.208\n",
      "    ===================================== ====== ======\n",
      "\n",
      "    :Missing Attribute Values: None\n",
      "\n",
      "    :Class Distribution: 212 - Malignant, 357 - Benign\n",
      "\n",
      "    :Creator:  Dr. William H. Wolberg, W. Nick Street, Olvi L. Mangasarian\n",
      "\n",
      "    :Donor: Nick Street\n",
      "\n",
      "    :Date: November, 1995\n",
      "\n",
      "This is a copy of UCI ML Breast Cancer Wisconsin (Diagnostic) datasets.\n",
      "https://goo.gl/U2Uwz2\n",
      "\n",
      "Features are computed from a digitized image of a fine needle\n",
      "aspirate (FNA) of a breast mass.  They describe\n",
      "characteristics of the cell nuclei present in the image.\n",
      "\n",
      "Separating plane described above was obtained using\n",
      "Multisurface Method-Tree (MSM-T) [K. P. Bennett, \"Decision Tree\n",
      "Construction Via Linear Programming.\" Proceedings of the 4th\n",
      "Midwest Artificial Intelligence and Cognitive Science Society,\n",
      "pp. 97-101, 1992], a classification method which uses linear\n",
      "programming to construct a decision tree.  Relevant features\n",
      "were selected using an exhaustive search in the space of 1-4\n",
      "features and 1-3 separating planes.\n",
      "\n",
      "The actual linear program used to obtain the separating plane\n",
      "in the 3-dimensional space is that described in:\n",
      "[K. P. Bennett and O. L. Mangasarian: \"Robust Linear\n",
      "Programming Discrimination of Two Linearly Inseparable Sets\",\n",
      "Optimization Methods and Software 1, 1992, 23-34].\n",
      "\n",
      "This database is also available through the UW CS ftp server:\n",
      "\n",
      "ftp ftp.cs.wisc.edu\n",
      "cd math-prog/cpo-dataset/machine-learn/WDBC/\n",
      "\n",
      "|details-start|\n",
      "**References**\n",
      "|details-split|\n",
      "\n",
      "- W.N. Street, W.H. Wolberg and O.L. Mangasarian. Nuclear feature extraction \n",
      "  for breast tumor diagnosis. IS&T/SPIE 1993 International Symposium on \n",
      "  Electronic Imaging: Science and Technology, volume 1905, pages 861-870,\n",
      "  San Jose, CA, 1993.\n",
      "- O.L. Mangasarian, W.N. Street and W.H. Wolberg. Breast cancer diagnosis and \n",
      "  prognosis via linear programming. Operations Research, 43(4), pages 570-577, \n",
      "  July-August 1995.\n",
      "- W.H. Wolberg, W.N. Street, and O.L. Mangasarian. Machine learning techniques\n",
      "  to diagnose breast cancer from fine-needle aspirates. Cancer Letters 77 (1994) \n",
      "  163-171.\n",
      "\n",
      "|details-end|\n"
     ]
    }
   ],
   "source": [
    "print(df.DESCR)"
   ]
  },
  {
   "cell_type": "markdown",
   "metadata": {},
   "source": [
    "### 入れ子交差検証でハイパーパラメータを最適化\n",
    "- 【課題1】探索するパラメータにカーネル関数の追加や範囲を変更して最適パラメータを探してみましょう\n",
    "    - グリッドサーチパラメータリストの書き方は下記を参照\n",
    "        - https://scikit-learn.org/stable/modules/grid_search.html#grid-search\n",
    "    - SVCの可能なパラメータリストは下記を参照\n",
    "        - https://scikit-learn.org/stable/modules/generated/sklearn.svm.SVC.html#sklearn.svm.SVC\n",
    "- 【課題2】Optunaを利用してハイパーパラメータを最適化し，グリッドサーチと比較してみましょう．\n",
    "    - Optuna: https://optuna.org\n",
    "    - 使い方は，Code Exmaplesを参照\n",
    "    - グリッドサーチ同様に入れ子の交差検証を用いること\n",
    "    - optunaでパラメータの生成範囲指定は下記を参照（関数 suggest_***）\n",
    "        - https://optuna.readthedocs.io/en/stable/reference/generated/optuna.trial.Trial.html#optuna.trial.Trial\n",
    "- 【課題3】最適なカーネル関数およびハイパーパラメータ，そこから分かるデータの特徴について考察してみましょう．"
   ]
  },
  {
   "cell_type": "code",
   "execution_count": 49,
   "metadata": {
    "scrolled": true
   },
   "outputs": [
    {
     "name": "stdout",
     "output_type": "stream",
     "text": [
      "Fold # 1; Best Parameter: {'gamma': 0.02}, Accuracy: 0.969\n",
      "Fold # 2; Best Parameter: {'gamma': 0.02}, Accuracy: 0.963\n",
      "Fold # 3; Best Parameter: {'gamma': 0.02}, Accuracy: 0.967\n",
      "Fold # 4; Best Parameter: {'gamma': 0.02}, Accuracy: 0.961\n",
      "Fold # 5; Best Parameter: {'gamma': 0.02}, Accuracy: 0.967\n",
      "Fold # 6; Best Parameter: {'gamma': 0.02}, Accuracy: 0.973\n",
      "Fold # 7; Best Parameter: {'gamma': 0.02}, Accuracy: 0.961\n",
      "Fold # 8; Best Parameter: {'gamma': 0.02}, Accuracy: 0.963\n",
      "Fold # 9; Best Parameter: {'gamma': 0.02}, Accuracy: 0.955\n",
      "Fold #10; Best Parameter: {'gamma': 0.05}, Accuracy: 0.959\n"
     ]
    }
   ],
   "source": [
    "# 外側ループのための交差検証用データ生成インスタンス\n",
    "kfold = StratifiedKFold(n_splits=10, shuffle=True, random_state=1)\n",
    "\n",
    "acc_trn_list = []  #外側ループのfold毎の学習データに対するaccuracy格納用\n",
    "acc_tst_list = []  #外側ループのfold毎のテストデータに対するaccuracy格納用\n",
    "\n",
    "# グリッドサーチのパラメータリスト\n",
    "parameters = {'gamma':[0.01, 0.02, 0.05, 0.1, 0,2, 1, 10, 100]} \n",
    "# 内側ループでグリッドサーチを行う交差検証インスタンス\n",
    "gs = GridSearchCV(SVC(), parameters, cv=2) \n",
    "\n",
    "k=0\n",
    "for train_itr, test_itr in kfold.split(X, y):\n",
    "    # 内側ループのグリッドサーチ\n",
    "    gs.fit(X[train_itr], y[train_itr])\n",
    "    print('Fold #{:2d}; Best Parameter: {}, Accuracy: {:.3f}'\\\n",
    "        .format(k+1,gs.best_params_,gs.best_score_))\n",
    "    acc_trn_list.append(gs.score(X[train_itr],y[train_itr]))\n",
    "    acc_tst_list.append(gs.score(X[test_itr],y[test_itr]))\n",
    "    k=k+1"
   ]
  },
  {
   "cell_type": "markdown",
   "metadata": {},
   "source": [
    "### 平均Accuracy"
   ]
  },
  {
   "cell_type": "code",
   "execution_count": 50,
   "metadata": {},
   "outputs": [
    {
     "name": "stdout",
     "output_type": "stream",
     "text": [
      "Training data: 0.986\n",
      "Test data: 0.974\n"
     ]
    }
   ],
   "source": [
    "print('Training data: %1.3f' % np.mean(acc_trn_list))\n",
    "print('Test data: %1.3f' % np.mean(acc_tst_list))"
   ]
  },
  {
   "cell_type": "markdown",
   "metadata": {},
   "source": [
    "## 【課題1】探索するパラメータにカーネル関数の追加や範囲を変更して最適パラメータを探してみましょう\n"
   ]
  },
  {
   "cell_type": "code",
   "execution_count": 51,
   "metadata": {},
   "outputs": [
    {
     "name": "stdout",
     "output_type": "stream",
     "text": [
      "Fold # 1; Best Parameter: {'C': 10, 'degree': 2, 'gamma': 0.02, 'kernel': 'rbf'}, Accuracy: 0.979\n",
      "Fold # 2; Best Parameter: {'C': 0.1, 'degree': 2, 'gamma': 0.01, 'kernel': 'linear'}, Accuracy: 0.971\n",
      "Fold # 3; Best Parameter: {'C': 0.1, 'degree': 2, 'gamma': 0.01, 'kernel': 'linear'}, Accuracy: 0.973\n",
      "Fold # 4; Best Parameter: {'C': 1, 'degree': 2, 'gamma': 0.01, 'kernel': 'linear'}, Accuracy: 0.973\n",
      "Fold # 5; Best Parameter: {'C': 0.1, 'degree': 2, 'gamma': 0.01, 'kernel': 'linear'}, Accuracy: 0.973\n",
      "Fold # 6; Best Parameter: {'C': 0.1, 'degree': 2, 'gamma': 0.01, 'kernel': 'linear'}, Accuracy: 0.979\n",
      "Fold # 7; Best Parameter: {'C': 10, 'degree': 2, 'gamma': 0.01, 'kernel': 'rbf'}, Accuracy: 0.979\n",
      "Fold # 8; Best Parameter: {'C': 0.1, 'degree': 2, 'gamma': 0.01, 'kernel': 'linear'}, Accuracy: 0.975\n",
      "Fold # 9; Best Parameter: {'C': 10, 'degree': 2, 'gamma': 0.01, 'kernel': 'rbf'}, Accuracy: 0.975\n",
      "Fold #10; Best Parameter: {'C': 10, 'degree': 2, 'gamma': 0.02, 'kernel': 'rbf'}, Accuracy: 0.975\n",
      "Training data: 0.987\n",
      "Test data: 0.977\n"
     ]
    }
   ],
   "source": [
    "# 外側ループのための交差検証用データ生成インスタンス\n",
    "kfold = StratifiedKFold(n_splits=10, shuffle=True, random_state=1)\n",
    "\n",
    "acc_trn_list = []  #外側ループのfold毎の学習データに対するaccuracy格納用\n",
    "acc_tst_list = []  #外側ループのfold毎のテストデータに対するaccuracy格納用\n",
    "\n",
    "# グリッドサーチのパラメータリスト\n",
    "parameters = {\n",
    "    'kernel': ['linear', 'poly', 'rbf'],  # 線形カーネル、多項式カーネル、RBFカーネル\n",
    "    'C': [0.01, 0.1, 1, 10, 100],  # ハイパーパラメータC\n",
    "    'degree': [2, 3, 4],  # 多項式カーネルの次数\n",
    "    'gamma': [0.01, 0.02, 0.05, 0.1, 0.2, 1, 10, 100]  # RBFカーネルと多項式カーネルのgamma\n",
    "}\n",
    "\n",
    "# 内側ループでグリッドサーチを行う交差検証インスタンス\n",
    "gs = GridSearchCV(SVC(), parameters, cv=2) \n",
    "\n",
    "k=0\n",
    "for train_itr, test_itr in kfold.split(X, y):\n",
    "    # 内側ループのグリッドサーチ\n",
    "    gs.fit(X[train_itr], y[train_itr])\n",
    "    print('Fold #{:2d}; Best Parameter: {}, Accuracy: {:.3f}'\\\n",
    "        .format(k+1,gs.best_params_,gs.best_score_))\n",
    "    acc_trn_list.append(gs.score(X[train_itr],y[train_itr]))\n",
    "    acc_tst_list.append(gs.score(X[test_itr],y[test_itr]))\n",
    "    k=k+1\n",
    " \n",
    "print('Training data: %1.3f' % np.mean(acc_trn_list))\n",
    "print('Test data: %1.3f' % np.mean(acc_tst_list))    "
   ]
  },
  {
   "cell_type": "markdown",
   "metadata": {},
   "source": [
    "## 【課題2】Optunaを利用してハイパーパラメータを最適化し，グリッドサーチと比較してみましょう．"
   ]
  },
  {
   "cell_type": "code",
   "execution_count": 52,
   "metadata": {},
   "outputs": [],
   "source": [
    "import optuna\n",
    "from sklearn.model_selection import cross_val_score"
   ]
  },
  {
   "cell_type": "code",
   "execution_count": 53,
   "metadata": {},
   "outputs": [
    {
     "name": "stdout",
     "output_type": "stream",
     "text": [
      "Fold # 1; Best Parameter: {'C': 0.2038673777140091, 'kernel': 'linear', 'degree': 2, 'gamma': 1090.134131787581}, Accuracy: 0.979\n",
      "Fold # 2; Best Parameter: {'C': 0.10214928199232363, 'kernel': 'linear', 'degree': 3, 'gamma': 0.04919861040734022}, Accuracy: 0.971\n",
      "Fold # 3; Best Parameter: {'C': 0.09515071835601352, 'kernel': 'linear', 'degree': 2, 'gamma': 0.21036030307772735}, Accuracy: 0.977\n",
      "Fold # 4; Best Parameter: {'C': 0.997781510424965, 'kernel': 'linear', 'degree': 4, 'gamma': 4.584768221378392e-05}, Accuracy: 0.975\n",
      "Fold # 5; Best Parameter: {'C': 0.20704921355245395, 'kernel': 'linear', 'degree': 3, 'gamma': 503.9406623657401}, Accuracy: 0.977\n",
      "Fold # 6; Best Parameter: {'C': 0.06208889629748294, 'kernel': 'linear', 'degree': 2, 'gamma': 95613.28748766422}, Accuracy: 0.982\n",
      "Fold # 7; Best Parameter: {'C': 14.98752341111002, 'kernel': 'rbf', 'degree': 3, 'gamma': 0.008469594778832}, Accuracy: 0.979\n",
      "Fold # 8; Best Parameter: {'C': 0.07324636121899472, 'kernel': 'linear', 'degree': 3, 'gamma': 0.4772311110967228}, Accuracy: 0.979\n",
      "Fold # 9; Best Parameter: {'C': 0.11605106961165436, 'kernel': 'linear', 'degree': 3, 'gamma': 325.2129680635797}, Accuracy: 0.971\n",
      "Fold #10; Best Parameter: {'C': 0.06654175529965516, 'kernel': 'linear', 'degree': 2, 'gamma': 11.631864843746975}, Accuracy: 0.971\n",
      "Training data: 0.985\n",
      "Test data: 0.975\n"
     ]
    }
   ],
   "source": [
    "optuna.logging.set_verbosity(optuna.logging.WARNING)\n",
    "\n",
    "def objective(trial):\n",
    "    #  パラメータ    \n",
    "    C = trial.suggest_float('C', 1e-5, 1e5, log=True)\n",
    "    kernel = trial.suggest_categorical('kernel', ['linear', 'poly', 'rbf'])\n",
    "    degree = trial.suggest_int('degree', 2, 4)\n",
    "    gamma = trial.suggest_float('gamma', 1e-5, 1e5, log=True)\n",
    "\n",
    "    model = SVC(C=C, kernel=kernel, degree=degree, gamma=gamma)\n",
    "\n",
    "    score = cross_val_score(model, X_train, y_train, cv=2).mean()\n",
    "    # model.fit(X_train, y_train)\n",
    "    # accuracy = model.score(X_train, y_train)\n",
    "    \n",
    "    return score\n",
    "\n",
    "acc_trn_list = []  #外側ループのfold毎の学習データに対するaccuracy格納用\n",
    "acc_tst_list = []  #外側ループのfold毎のテストデータに対するaccuracy格納用\n",
    "k=0\n",
    "for train_idx, test_idx in kfold.split(X, y):\n",
    "    X_train, X_test = X[train_idx], X[test_idx]\n",
    "    y_train, y_test = y[train_idx], y[test_idx]\n",
    "    \n",
    "    study = optuna.create_study(direction='maximize')\n",
    "    study.optimize(objective, n_trials=500, show_progress_bar=False)\n",
    "    \n",
    "    best_params = study.best_params\n",
    "    \n",
    "    C = best_params['C']\n",
    "    kernel = best_params['kernel']\n",
    "    degree = best_params['degree']\n",
    "    gamma = best_params['gamma']\n",
    "\n",
    "    model = SVC(C=C, kernel=kernel, degree=degree, gamma=gamma)\n",
    "    model.fit(X_train, y_train)\n",
    "    print('Fold #{:2d}; Best Parameter: {}, Accuracy: {:.3f}'\\\n",
    "        .format(k+1,best_params,study.best_value ))\n",
    "    acc_trn_list.append(model.score(X_train, y_train))\n",
    "    acc_tst_list.append(model.score(X_test, y_test))\n",
    "    k=k+1\n",
    "  \n",
    "\n",
    "print('Training data: %1.3f' % np.mean(acc_trn_list))\n",
    "print('Test data: %1.3f' % np.mean(acc_tst_list)) "
   ]
  },
  {
   "cell_type": "markdown",
   "metadata": {},
   "source": [
    "グリッドサーチを用いてもoptunaを用いてもあまり変化はない。"
   ]
  },
  {
   "cell_type": "markdown",
   "metadata": {},
   "source": [
    "## 【課題3】最適なカーネル関数およびハイパーパラメータ，そこから分かるデータの特徴について考察してみましょう．"
   ]
  },
  {
   "cell_type": "markdown",
   "metadata": {},
   "source": [
    "両方の結果で線形カーネルが選択されることが多いことから、データが線形分離可能である可能性が高いと考えられる。しかし、RBFカーネルも一部の場合で選択されており、非線形性も存在する可能性がある。\\\n",
    "パラメータCは幅広い値がとられており、分割データに合わせて調整されていると考えられる。"
   ]
  }
 ],
 "metadata": {
  "kernelspec": {
   "display_name": "Python 3 (ipykernel)",
   "language": "python",
   "name": "python3"
  },
  "language_info": {
   "codemirror_mode": {
    "name": "ipython",
    "version": 3
   },
   "file_extension": ".py",
   "mimetype": "text/x-python",
   "name": "python",
   "nbconvert_exporter": "python",
   "pygments_lexer": "ipython3",
   "version": "3.10.4"
  }
 },
 "nbformat": 4,
 "nbformat_minor": 2
}
